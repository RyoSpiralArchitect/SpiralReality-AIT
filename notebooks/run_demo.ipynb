{
 "cells": [
  {
   "cell_type": "markdown",
   "metadata": {},
   "source": [
    "# One-Pass AIT Demo (Interactive)\n",
    "This notebook mirrors `integrated/run_demo.py` while exposing a few hooks for exploring\n",
    "boundary predictions, gate masks, attention maps, and phase traces.  Run the setup cell below\n",
    "to train the NumPy student (or optional compiled backend) and capture tensorboard-style\n",
    "scalars alongside inline Matplotlib charts."
   ]
  },
  {
   "cell_type": "code",
   "execution_count": null,
   "metadata": {},
   "outputs": [],
   "source": [
    "from pathlib import Path\n",
    "import json\n",
    "import matplotlib.pyplot as plt\n",
    "import seaborn as sns\n",
    "\n",
    "from spiralreality_AIT_onepass_aifcore_integrated.integrated.run_demo import main as run_demo\n",
    "from spiralreality_AIT_onepass_aifcore_integrated.integrated.onepass_ait import OnePassAIT\n",
    "from spiralreality_AIT_onepass_aifcore_integrated.integrated.corpus import TRAIN_TEXTS, teacher_segments\n",
    "\n",
    "# Execute the scripted demo (writes logs + checkpoint)\n",
    "run_demo()\n",
    "\n",
    "log_path = Path(__file__).resolve().parent.parent / \"spiralreality_AIT_onepass_aifcore_integrated\" / \"integrated\" / \"integrated_log.json\"\n",
    "with log_path.open() as fp:\n",
    "    log = json.load(fp)\n",
    "\n",
    "# Inspect gate trace and attention energy\n",
    "gate_trace = log['gate_trace']\n",
    "attn_strength = log['attention_strength']\n",
    "plt.figure(figsize=(12, 4))\n",
    "sns.lineplot(x=range(len(gate_trace)), y=gate_trace)\n",
    "plt.title('Gate Trace (phase-informed)')\n",
    "plt.show()\n",
    "\n",
    "plt.figure(figsize=(6, 4))\n",
    "sns.barplot(x=list(range(len(attn_strength))), y=attn_strength)\n",
    "plt.title('Attention strength per layer')\n",
    "plt.show()\n",
    "\n",
    "print('Phase-local mean energy:', log.get('phase_local_mean'))\n",
    "print('Gate mask energy:', log.get('gate_mask_energy'))\n"
   ]
  }
 ],
 "metadata": {
  "kernelspec": {
   "display_name": "Python 3",
   "language": "python",
   "name": "python3"
  },
  "language_info": {
   "name": "python",
   "version": "3.11"
  }
 },
 "nbformat": 4,
 "nbformat_minor": 5
}
