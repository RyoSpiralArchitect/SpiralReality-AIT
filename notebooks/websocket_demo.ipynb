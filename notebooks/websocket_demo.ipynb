{
 "cells": [
  {
   "cell_type": "markdown",
   "metadata": {},
   "source": [
    "# WebSocket Diagnostics Demo\n",
    "\n",
    "This notebook shows how to stream inference results from the diagnostics server\n",
    "using the `/ws` endpoint. Make sure the Docker compose stack is running\n",
    "locally before executing the cells."
   ]
  },
  {
   "cell_type": "code",
   "execution_count": null,
   "metadata": {},
   "outputs": [],
   "source": [
    "import asyncio\n",
    "import json\n",
    "from typing import Any, Dict\n",
    "\n",
    "import websockets\n"
   ]
  },
  {
   "cell_type": "code",
   "execution_count": null,
   "metadata": {},
   "outputs": [],
   "source": [
    "async def stream_gate_trace(text: str) -> Dict[str, Any]:\n",
    "    uri = \"ws://localhost:8000/ws\"\n",
    "    async with websockets.connect(uri) as ws:\n",
    "        ready_msg = json.loads(await ws.recv())\n",
    "        print(\"Server:\", ready_msg)\n",
    "        await ws.send(json.dumps({\"text\": text}))\n",
    "        while True:\n",
    "            response = json.loads(await ws.recv())\n",
    "            print(response)\n",
    "            if response.get(\"type\") == \"result\":\n",
    "                return response\n"
   ]
  },
  {
   "cell_type": "code",
   "execution_count": null,
   "metadata": {},
   "outputs": [],
   "source": [
    "result = asyncio.run(stream_gate_trace(\"Gate diagnostics reveal latent behaviour.\"))\n",
    "result[\"diagnostics\"]\n"
   ]
  }
 ],
 "metadata": {
  "kernelspec": {
   "display_name": "Python 3",
   "language": "python",
   "name": "python3"
  },
  "language_info": {
   "codemirror_mode": {
    "name": "ipython",
    "version": 3
   },
   "file_extension": ".py",
   "mimetype": "text/x-python",
   "name": "python",
   "nbconvert_exporter": "python",
   "pygments_lexer": "ipython3",
   "version": "3.11"
  }
 },
 "nbformat": 4,
 "nbformat_minor": 5
}
